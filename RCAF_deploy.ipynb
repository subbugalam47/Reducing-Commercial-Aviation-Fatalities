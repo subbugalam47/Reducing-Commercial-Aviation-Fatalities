{
  "nbformat": 4,
  "nbformat_minor": 0,
  "metadata": {
    "colab": {
      "name": "RCAF_deploy.ipynb",
      "provenance": []
    },
    "kernelspec": {
      "name": "python3",
      "display_name": "Python 3"
    },
    "language_info": {
      "name": "python"
    }
  },
  "cells": [
    {
      "cell_type": "code",
      "source": [
        "!pip install biosppy"
      ],
      "metadata": {
        "id": "17oc6MoxTUfW",
        "colab": {
          "base_uri": "https://localhost:8080/"
        },
        "outputId": "6bbaef40-fac3-4554-e61a-22f5cdc2f5ee"
      },
      "execution_count": null,
      "outputs": [
        {
          "output_type": "stream",
          "name": "stdout",
          "text": [
            "Collecting biosppy\n",
            "  Downloading biosppy-0.7.3.tar.gz (85 kB)\n",
            "\u001b[?25l\r\u001b[K     |███▉                            | 10 kB 13.0 MB/s eta 0:00:01\r\u001b[K     |███████▊                        | 20 kB 15.9 MB/s eta 0:00:01\r\u001b[K     |███████████▌                    | 30 kB 7.7 MB/s eta 0:00:01\r\u001b[K     |███████████████▍                | 40 kB 6.6 MB/s eta 0:00:01\r\u001b[K     |███████████████████▏            | 51 kB 5.6 MB/s eta 0:00:01\r\u001b[K     |███████████████████████         | 61 kB 5.3 MB/s eta 0:00:01\r\u001b[K     |███████████████████████████     | 71 kB 5.8 MB/s eta 0:00:01\r\u001b[K     |██████████████████████████████▊ | 81 kB 6.5 MB/s eta 0:00:01\r\u001b[K     |████████████████████████████████| 85 kB 2.5 MB/s \n",
            "\u001b[?25hCollecting bidict\n",
            "  Downloading bidict-0.21.4-py3-none-any.whl (36 kB)\n",
            "Requirement already satisfied: h5py in /usr/local/lib/python3.7/dist-packages (from biosppy) (3.1.0)\n",
            "Requirement already satisfied: matplotlib in /usr/local/lib/python3.7/dist-packages (from biosppy) (3.2.2)\n",
            "Requirement already satisfied: numpy in /usr/local/lib/python3.7/dist-packages (from biosppy) (1.19.5)\n",
            "Requirement already satisfied: scikit-learn in /usr/local/lib/python3.7/dist-packages (from biosppy) (1.0.1)\n",
            "Requirement already satisfied: scipy in /usr/local/lib/python3.7/dist-packages (from biosppy) (1.4.1)\n",
            "Collecting shortuuid\n",
            "  Downloading shortuuid-1.0.8-py3-none-any.whl (9.5 kB)\n",
            "Requirement already satisfied: six in /usr/local/lib/python3.7/dist-packages (from biosppy) (1.15.0)\n",
            "Requirement already satisfied: joblib in /usr/local/lib/python3.7/dist-packages (from biosppy) (1.1.0)\n",
            "Requirement already satisfied: opencv-python in /usr/local/lib/python3.7/dist-packages (from biosppy) (4.1.2.30)\n",
            "Requirement already satisfied: cached-property in /usr/local/lib/python3.7/dist-packages (from h5py->biosppy) (1.5.2)\n",
            "Requirement already satisfied: python-dateutil>=2.1 in /usr/local/lib/python3.7/dist-packages (from matplotlib->biosppy) (2.8.2)\n",
            "Requirement already satisfied: cycler>=0.10 in /usr/local/lib/python3.7/dist-packages (from matplotlib->biosppy) (0.11.0)\n",
            "Requirement already satisfied: pyparsing!=2.0.4,!=2.1.2,!=2.1.6,>=2.0.1 in /usr/local/lib/python3.7/dist-packages (from matplotlib->biosppy) (3.0.6)\n",
            "Requirement already satisfied: kiwisolver>=1.0.1 in /usr/local/lib/python3.7/dist-packages (from matplotlib->biosppy) (1.3.2)\n",
            "Requirement already satisfied: threadpoolctl>=2.0.0 in /usr/local/lib/python3.7/dist-packages (from scikit-learn->biosppy) (3.0.0)\n",
            "Building wheels for collected packages: biosppy\n",
            "  Building wheel for biosppy (setup.py) ... \u001b[?25l\u001b[?25hdone\n",
            "  Created wheel for biosppy: filename=biosppy-0.7.3-py2.py3-none-any.whl size=95430 sha256=c03eeeede06183dccf5b3a1ee17ace4381c958441e47807b9b43d241017bd9bf\n",
            "  Stored in directory: /root/.cache/pip/wheels/2f/4f/8f/28b2adc462d7e37245507324f4817ce1c64ef2464f099f4f0b\n",
            "Successfully built biosppy\n",
            "Installing collected packages: shortuuid, bidict, biosppy\n",
            "Successfully installed bidict-0.21.4 biosppy-0.7.3 shortuuid-1.0.8\n"
          ]
        }
      ]
    },
    {
      "cell_type": "code",
      "execution_count": null,
      "metadata": {
        "id": "pq3axdisz2xY"
      },
      "outputs": [],
      "source": [
        "import pandas as pd                                                       \n",
        "import numpy as np                                                                                                            \n",
        "from scipy import signal         \n",
        "    \n",
        "from biosppy.signals import ecg   \n",
        "from biosppy.signals import eeg\n",
        "from biosppy.signals import resp            \n",
        "from scipy.interpolate import interp1d   \n",
        "import pickle\n",
        "import joblib                             \n",
        "from sklearn.metrics import log_loss,f1_score    \n",
        "from timeit import default_timer as timer  \n",
        "import flask\n",
        "from flask import Flask, jsonify, request       \n"
      ]
    },
    {
      "cell_type": "code",
      "source": [
        "# train_df = train_df.sample(5000)\n",
        "# pickle.dump(train_df,open('train_df.pkl','wb'))\n",
        "train_df = pickle.load(open('/content/drive/MyDrive/train_df.pkl','rb'))  "
      ],
      "metadata": {
        "id": "WpUXa5_HZZVD"
      },
      "execution_count": null,
      "outputs": []
    },
    {
      "cell_type": "code",
      "source": [
        "def interpolation_fn(timestamps,biosppy_ts, biosppy_values):\n",
        "    \"\"\"linear interpolation function to produce heart rate, resp rate all time steps\"\"\"\n",
        "    interpolation = interp1d(biosppy_ts,biosppy_values, kind=\"linear\", fill_value=\"extrapolate\")  \n",
        "    return interpolation(timestamps) "
      ],
      "metadata": {
        "id": "7tswUypg2jJ2"
      },
      "execution_count": null,
      "outputs": []
    },
    {
      "cell_type": "code",
      "source": [
        "def noise_free(data,w):\n",
        "\n",
        "  ''' function takes raw  signal and removes some noise present init gives noise free signal ''' \n",
        "  n=5\n",
        "  b,a = signal.butter(n,w,fs=256)\n",
        "\n",
        "  return signal.filtfilt(b,a,data) "
      ],
      "metadata": {
        "id": "X9ztx7Hm5RMR"
      },
      "execution_count": null,
      "outputs": []
    },
    {
      "cell_type": "code",
      "source": [
        "def biosppy(df):\n",
        "    \"\"\"THIS FUNCTION WILL DERIVE ALL FEATURE THAT IS GENEARTED USING BIOSPPY MODULE\"\"\"\n",
        "                      \n",
        "    df['filt_ecg'] = noise_free(df.ecg,100)                    # filtering ecg signal \n",
        "    df['filt_respiration'] = noise_free(df.r,0.7)              # filtering r signal \n",
        "  \n",
        "    bio=ecg.ecg(df[\"ecg\"],sampling_rate=256,show=False)                                           #heart rate from ecg\n",
        "    df[\"heart_rate\"]=interpolation_fn(df[\"time\"],bio[\"heart_rate_ts\"],bio[\"heart_rate\"])\n",
        "    \n",
        "    \n",
        "    bio=resp.resp(df[\"r\"],sampling_rate=256,show=False)                                             #resp rate from r signal\n",
        "    df[\"resp_rate\"]=interpolation_fn(df[\"time\"],bio[\"resp_rate_ts\"],bio[\"resp_rate\"])\n",
        "    \n",
        "       \n",
        "    return df"
      ],
      "metadata": {
        "id": "SqluHmul2jG-"
      },
      "execution_count": null,
      "outputs": []
    },
    {
      "cell_type": "code",
      "source": [
        "def potential_differences(df):\n",
        "  \"\"\"FUNCTION TO CALCULATE POTENTIAL DIFFERENCE BETWEEN ELECTRODES\"\"\"\n",
        "\n",
        "      \n",
        "  df['fp1_f7'] = df['eeg_fp1'] - df['eeg_f7']\n",
        "  df['f7_t3'] = df['eeg_f7'] - df['eeg_t3']\n",
        "  df['t3_t5'] = df['eeg_t3'] - df['eeg_t5']\n",
        "  df['t5_o1'] = df['eeg_t5'] - df['eeg_o1']\n",
        "  df['fp1_f3'] = df['eeg_fp1'] - df['eeg_f7']\n",
        "  df['f3_c3'] = df['eeg_f3'] - df['eeg_c3']\n",
        "  df['c3_p3'] = df['eeg_c3'] - df['eeg_p3']\n",
        "  df['p3_o1'] = df['eeg_p3'] - df['eeg_o1']\n",
        "\n",
        "  df['fz_cz'] = df['eeg_fz'] - df['eeg_cz']\n",
        "  df['cz_pz'] = df['eeg_cz'] - df['eeg_pz']                     # train potential differences \n",
        "  df['pz_poz'] = df['eeg_pz'] - df['eeg_poz']\n",
        "\n",
        "  df['fp2_f8'] = df['eeg_fp2'] - df['eeg_f8']\n",
        "  df['f8_t4'] = df['eeg_f8'] - df['eeg_t4']\n",
        "  df['t4_t6'] = df['eeg_t4'] - df['eeg_t6']\n",
        "  df['t6_o2'] = df['eeg_t6'] - df['eeg_o2']\n",
        "  df['fp2_f4'] = df['eeg_fp2'] - df['eeg_f4']\n",
        "  df['f4_c4'] = df['eeg_f4'] - df['eeg_c4']\n",
        "  df['c4_p4'] = df['eeg_c4'] - df['eeg_p4']\n",
        "  df['p4_o2'] = df['eeg_p4'] - df['eeg_o2']\n",
        "\n",
        "  \n",
        "  return df"
      ],
      "metadata": {
        "id": "BmLcDU7P2jCb"
      },
      "execution_count": null,
      "outputs": []
    },
    {
      "cell_type": "code",
      "source": [
        "features_n = ['fp1_f7', 'f7_t3', 't3_t5', 't5_o1', 'fp1_f3', 'f3_c3', 'c3_p3', 'p3_o1', 'fz_cz', 'cz_pz',\n",
        "                'pz_poz', 'fp2_f8', 'f8_t4', 't4_t6', 't6_o2', 'fp2_f4', 'f4_c4', 'c4_p4', 'p4_o2', 'resp_rate','heart_rate', \"gsr\",'filt_ecg','filt_respiration'] "
      ],
      "metadata": {
        "id": "BDeL-ftEdDLw"
      },
      "execution_count": null,
      "outputs": []
    },
    {
      "cell_type": "code",
      "source": [
        "# sample raw data\n",
        "\n",
        "raw_data=\"\"\"1,'DA',79.3125,0,-12.3193,-9.38664,-8.27289,4.182519999999999,-5.07408,-12.8671,-1.7250900000000002,-11.9463,-9.22448,\n",
        " -2.7210099999999997,3.426,-9.89132,-0.274316,-6.72473,-2.2144,-0.5635399999999999,-1.51768,-5.32143,5.04036,-6.22804,\n",
        " -4454.430176,735.140991,1076.25\"\"\"\n",
        "\n"
      ],
      "metadata": {
        "id": "DNqzKCVpbTQq"
      },
      "execution_count": null,
      "outputs": []
    },
    {
      "cell_type": "code",
      "source": [
        "def prediction_func1(raw_data):\n",
        "  ''' taking 1 datapoint as input with 27 features and returning the predicted output for it '''\n",
        "\n",
        "  start = timer()\n",
        "  train=pickle.load(open('/content/drive/MyDrive/train_df.pkl','rb')) # sample 5000\n",
        "  train=train.drop('event',axis=1)\n",
        "  raw_data = list(raw_data.split(','))\n",
        "\n",
        "  for i in range(len(raw_data)):\n",
        "    \n",
        "    if i==0 or i==3:\n",
        "      raw_data[i] = int(raw_data[i]) \n",
        "    elif i==1 :\n",
        "      raw_data[i] = raw_data[i] \n",
        "    else:\n",
        "      raw_data[i] = float(raw_data[i])  \n",
        "\n",
        "\n",
        "  if raw_data[1] == 'LOFT':\n",
        "        raw_data[1]=4\n",
        "  elif raw_data[1] == 'CA':\n",
        "      raw_data[1]=0\n",
        "  elif raw_data[1] == \"'DA'\":\n",
        "      raw_data[1]=1\n",
        "  elif raw_data[1] == 'SS':\n",
        "      raw_data[1]=3\n",
        "  \n",
        "  raw_data=np.array(raw_data,dtype=float)\n",
        "  raw_data=raw_data.reshape(1,27)\n",
        "  raw_data=pd.DataFrame(raw_data,columns=train.columns.tolist())\n",
        "  raw_data=raw_data.append(train)\n",
        "  raw_data = raw_data.reset_index() \n",
        "\n",
        "  raw_data=biosppy(raw_data)\n",
        "  raw_data=potential_differences(raw_data)\n",
        "  model=pickle.load(open('/content/drive/MyDrive/model/lightgbm.pkl','rb')) \n",
        "  prob = model.predict_proba(raw_data[features_n]) \n",
        "\n",
        "  end = timer()\n",
        "  print('total time : ',end - start)\n",
        "\n",
        "  return prob[0]\n",
        "\n",
        "\n",
        "pred = prediction_func1(data)\n",
        "pred"
      ],
      "metadata": {
        "id": "G96OUQk33iqD",
        "colab": {
          "base_uri": "https://localhost:8080/"
        },
        "outputId": "28e7efcb-1d85-43c8-a40c-2bd8ff61639b"
      },
      "execution_count": null,
      "outputs": [
        {
          "output_type": "stream",
          "name": "stdout",
          "text": [
            "total time :  1.057310411000799\n"
          ]
        },
        {
          "output_type": "execute_result",
          "data": {
            "text/plain": [
              "array([0.76695001, 0.00535544, 0.19211803, 0.03557652])"
            ]
          },
          "metadata": {},
          "execution_count": 79
        }
      ]
    },
    {
      "cell_type": "code",
      "source": [
        "y_true=[1,0,0,0]\n",
        "def metric_func2(pred,y):\n",
        "    ''' returning the logloss for true and predicted values '''\n",
        "    \n",
        "    return log_loss(y,pred)"
      ],
      "metadata": {
        "id": "8TYP0JhY30-3"
      },
      "execution_count": null,
      "outputs": []
    },
    {
      "cell_type": "code",
      "source": [
        "metric_func2(pred,y_true)"
      ],
      "metadata": {
        "id": "7EIj5n7U307-",
        "colab": {
          "base_uri": "https://localhost:8080/"
        },
        "outputId": "0e3b93a7-eade-42a1-d7e8-1a54ee0ea6af"
      },
      "execution_count": null,
      "outputs": [
        {
          "output_type": "execute_result",
          "data": {
            "text/plain": [
              "0.13006689340819272"
            ]
          },
          "metadata": {},
          "execution_count": 25
        }
      ]
    }
  ]
}